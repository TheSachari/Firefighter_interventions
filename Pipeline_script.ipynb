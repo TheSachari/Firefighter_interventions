{
 "cells": [
  {
   "cell_type": "raw",
   "id": "1a29eaf1-54fa-4648-9b56-081565d4b1c9",
   "metadata": {},
   "source": [
    "sudo rmmod nvidia_uvm\n",
    "sudo modprobe nvidia_uvm"
   ]
  },
  {
   "cell_type": "code",
   "execution_count": 1,
   "id": "5d831f6b-06b3-4f52-8112-22b7e6254930",
   "metadata": {},
   "outputs": [],
   "source": [
    "# !pip freeze > requirements.txt"
   ]
  },
  {
   "cell_type": "code",
   "execution_count": 2,
   "id": "44461586-5e59-43bc-ba36-8b89ab1709dd",
   "metadata": {},
   "outputs": [
    {
     "name": "stdout",
     "output_type": "stream",
     "text": [
      "device is cuda\n"
     ]
    }
   ],
   "source": [
    "import json\n",
    "import os\n",
    "from collections import defaultdict\n",
    "import pickle\n",
    "import json\n",
    "from tqdm.auto import tqdm\n",
    "import subprocess\n",
    "import pandas as pd\n",
    "import numpy as np\n",
    "import matplotlib.pyplot as plt\n",
    "\n",
    "\n",
    "os.environ[\"CUDA_LAUNCH_BLOCKING\"] = \"1\"\n",
    "os.environ[\"CUDA_VISIBLE_DEVICES\"] = \"0\"\n",
    "\n",
    "import torch \n",
    "device = torch.device(\"cuda\" if torch.cuda.is_available() else \"cpu\")\n",
    "print(\"device is\", device)"
   ]
  },
  {
   "cell_type": "markdown",
   "id": "56d90f01-bb75-448b-85b9-a8500b423003",
   "metadata": {},
   "source": [
    "# Preprocess"
   ]
  },
  {
   "cell_type": "code",
   "execution_count": 3,
   "id": "109e90a9-b46a-4530-82d6-335981d129f0",
   "metadata": {},
   "outputs": [
    {
     "name": "stderr",
     "output_type": "stream",
     "text": [
      "/media/michael/Fichiers/Fac/Thèse 1/Code/Scripts/preprocess.py:207: DtypeWarning: Columns (7) have mixed types. Specify dtype option on import or set low_memory=False.\n",
      "  df_materiel = pd.read_csv(csv_file, sep=\";\")\n"
     ]
    },
    {
     "name": "stdout",
     "output_type": "stream",
     "text": [
      "53088 Preprocess done\n",
      "             Coord X       Coord Y         Month           Day          Hour  \\\n",
      "count   53088.000000  5.308800e+04  53088.000000  53088.000000  53088.000000   \n",
      "mean   566938.590288  6.271233e+06      6.453191    180.592413     13.265559   \n",
      "std     19582.304424  2.010151e+04      3.405320    104.084457      6.205673   \n",
      "min    492349.270000  6.183029e+06      1.000000      1.000000      0.000000   \n",
      "25%    564683.750000  6.266237e+06      4.000000     91.000000      9.000000   \n",
      "50%    572270.980000  6.277611e+06      6.000000    179.000000     14.000000   \n",
      "75%    575489.475000  6.281235e+06      9.000000    270.000000     18.000000   \n",
      "max    624065.210000  6.312665e+06     12.000000    365.000000     23.000000   \n",
      "\n",
      "             Minute      Duration      Incident  \n",
      "count  53088.000000  53088.000000  53088.000000  \n",
      "mean      29.367390     86.686671     11.157851  \n",
      "std       17.266883     48.725003     12.897099  \n",
      "min        0.000000     11.000000      1.000000  \n",
      "25%       14.000000     54.000000      2.000000  \n",
      "50%       29.000000     80.000000      5.000000  \n",
      "75%       44.000000    109.000000     16.000000  \n",
      "max       59.000000   1159.000000     56.000000  \n"
     ]
    }
   ],
   "source": [
    "%run preprocess.py"
   ]
  },
  {
   "cell_type": "code",
   "execution_count": null,
   "id": "a0eb6f78-03e1-44f4-ae1d-48aa934f3018",
   "metadata": {},
   "outputs": [],
   "source": []
  },
  {
   "cell_type": "markdown",
   "id": "d1ca6fd8-11f0-49ec-95b2-fe58dd2555e5",
   "metadata": {},
   "source": [
    "# Train"
   ]
  },
  {
   "cell_type": "code",
   "execution_count": 57,
   "id": "4aca144a-2d53-4492-a626-ba1500a32dca",
   "metadata": {},
   "outputs": [
    {
     "data": {
      "text/plain": [
       "'/media/michael/Fichiers/Fac/Thèse 1/Code/Scripts'"
      ]
     },
     "execution_count": 57,
     "metadata": {},
     "output_type": "execute_result"
    }
   ],
   "source": [
    "os.getcwd()"
   ]
  },
  {
   "cell_type": "code",
   "execution_count": 11,
   "id": "a1759a26-d42f-4e0f-bea3-7498182eaebe",
   "metadata": {},
   "outputs": [],
   "source": [
    "os.chdir(\"../\")"
   ]
  },
  {
   "cell_type": "code",
   "execution_count": 33,
   "id": "fb016298-8911-416c-a2e6-d4c1710721c2",
   "metadata": {},
   "outputs": [
    {
     "name": "stdout",
     "output_type": "stream",
     "text": [
      "Index(['Coord X', 'Coord Y', 'Month', 'Day', 'Hour', 'Minute', 'Duration',\n",
      "       'Incident'],\n",
      "      dtype='object')\n",
      "Index(['Month_sin', 'Month_cos', 'Hour_sin', 'Hour_cos', 'Day_sin', 'Day_cos',\n",
      "       'Coord X', 'Coord Y', 'Duration', 'Incident', 'Month', 'Day', 'Hour',\n",
      "       'Minute'],\n",
      "      dtype='object')\n",
      "Index(['Month_sin', 'Month_cos', 'Hour_sin', 'Hour_cos', 'Day_sin', 'Day_cos',\n",
      "       'Coord X', 'Coord Y', 'Duration', 'Incident'],\n",
      "      dtype='object')\n",
      "K [0]\n",
      "features 9\n",
      "{'d_in': np.int64(9), 'is_y_cond': True, 'num_classes': 56, 'rtdl_params': {'d_layers': [1024, 1024], 'dropout': 0.0}, 'dim_t': 128}\n",
      "mlp\n",
      "label embedding Embedding(56, 128)\n",
      "diffusion ready\n",
      "Model trained\n"
     ]
    }
   ],
   "source": [
    "%run train.py --lr 0.0025 --layers 1024 --num_timesteps 1000 --is_y_cond --save_as 'dqn_test' "
   ]
  },
  {
   "cell_type": "markdown",
   "id": "96947096-8bca-45d5-82b9-a8a208f6f0f8",
   "metadata": {},
   "source": [
    "# Sample"
   ]
  },
  {
   "cell_type": "code",
   "execution_count": 12,
   "id": "ae8f89c2-cde8-4c0b-86f8-cc6d37ac4041",
   "metadata": {},
   "outputs": [
    {
     "name": "stdout",
     "output_type": "stream",
     "text": [
      "os factor: 3 sample batch size: 8192 variability: 0.02\n",
      "[0]\n",
      "features 9\n",
      "{'d_in': np.int64(9), 'is_y_cond': True, 'num_classes': 56, 'rtdl_params': {'d_layers': [1024, 1024], 'dropout': 0.0}, 'dim_t': 128}\n",
      "mlp\n",
      "label embedding Embedding(56, 128)\n",
      "params loaded\n",
      "diffusion ready\n",
      "Index(['area_name', 'count', 'new_samples', 'perc.', 'delta'], dtype='object')\n",
      "new samples OK\n",
      "(53088, 14)\n",
      "Index(['Coord X', 'Coord Y', 'Duration', 'Day', 'Month', 'Hour', 'Incident',\n",
      "       'Month_sin', 'Month_cos', 'Day_sin', 'Day_cos', 'Hour_sin', 'Hour_cos',\n",
      "       'area_name'],\n",
      "      dtype='object')\n",
      "dataset sampled\n"
     ]
    }
   ],
   "source": [
    "# %run sample.py --load_as 'dqn_test' --save_sample_as \"df_fake.pkl\" --to_keep 40 --value_span 100"
   ]
  },
  {
   "cell_type": "code",
   "execution_count": 3,
   "id": "3c57127e-0e32-4145-a31b-c0b7ca351558",
   "metadata": {},
   "outputs": [
    {
     "name": "stdout",
     "output_type": "stream",
     "text": [
      "iteration 0\n",
      "os factor: 3 sample batch size: 8192 variability: 0.02\n",
      "[0]\n",
      "features 9\n",
      "{'d_in': np.int64(9), 'is_y_cond': True, 'num_classes': 56, 'rtdl_params': {'d_layers': [1024, 1024], 'dropout': 0.0}, 'dim_t': 128}\n",
      "mlp\n",
      "label embedding Embedding(56, 128)\n",
      "params loaded\n",
      "diffusion ready\n",
      "Index(['area_name', 'count', 'new_samples', 'perc.', 'delta'], dtype='object')\n",
      "new samples OK\n",
      "(53088, 14)\n",
      "Index(['Coord X', 'Coord Y', 'Duration', 'Day', 'Month', 'Hour', 'Incident',\n",
      "'Month_sin', 'Month_cos', 'Day_sin', 'Day_cos', 'Hour_sin', 'Hour_cos',\n",
      "'area_name'],\n",
      "dtype='object')\n",
      "dataset sampled\n",
      "--- df_fake_0.pkl done---\n",
      "\n",
      "iteration 1\n",
      "os factor: 3 sample batch size: 8192 variability: 0.02\n",
      "[0]\n",
      "features 9\n",
      "{'d_in': np.int64(9), 'is_y_cond': True, 'num_classes': 56, 'rtdl_params': {'d_layers': [1024, 1024], 'dropout': 0.0}, 'dim_t': 128}\n",
      "mlp\n",
      "label embedding Embedding(56, 128)\n",
      "params loaded\n",
      "diffusion ready\n",
      "Index(['area_name', 'count', 'new_samples', 'perc.', 'delta'], dtype='object')\n",
      "new samples OK\n",
      "(53088, 14)\n",
      "Index(['Coord X', 'Coord Y', 'Duration', 'Day', 'Month', 'Hour', 'Incident',\n",
      "'Month_sin', 'Month_cos', 'Day_sin', 'Day_cos', 'Hour_sin', 'Hour_cos',\n",
      "'area_name'],\n",
      "dtype='object')\n",
      "dataset sampled\n",
      "--- df_fake_1.pkl done---\n",
      "\n",
      "iteration 2\n",
      "os factor: 3 sample batch size: 8192 variability: 0.02\n",
      "[0]\n",
      "features 9\n",
      "{'d_in': np.int64(9), 'is_y_cond': True, 'num_classes': 56, 'rtdl_params': {'d_layers': [1024, 1024], 'dropout': 0.0}, 'dim_t': 128}\n",
      "mlp\n",
      "label embedding Embedding(56, 128)\n",
      "params loaded\n",
      "diffusion ready\n",
      "Index(['area_name', 'count', 'new_samples', 'perc.', 'delta'], dtype='object')\n",
      "new samples OK\n",
      "(53088, 14)\n",
      "Index(['Coord X', 'Coord Y', 'Duration', 'Day', 'Month', 'Hour', 'Incident',\n",
      "'Month_sin', 'Month_cos', 'Day_sin', 'Day_cos', 'Hour_sin', 'Hour_cos',\n",
      "'area_name'],\n",
      "dtype='object')\n",
      "dataset sampled\n",
      "--- df_fake_2.pkl done---\n",
      "\n",
      "iteration 3\n",
      "os factor: 3 sample batch size: 8192 variability: 0.02\n",
      "[0]\n",
      "features 9\n",
      "{'d_in': np.int64(9), 'is_y_cond': True, 'num_classes': 56, 'rtdl_params': {'d_layers': [1024, 1024], 'dropout': 0.0}, 'dim_t': 128}\n",
      "mlp\n",
      "label embedding Embedding(56, 128)\n",
      "params loaded\n",
      "diffusion ready\n",
      "Index(['area_name', 'count', 'new_samples', 'perc.', 'delta'], dtype='object')\n",
      "new samples OK\n",
      "(53088, 14)\n",
      "Index(['Coord X', 'Coord Y', 'Duration', 'Day', 'Month', 'Hour', 'Incident',\n",
      "'Month_sin', 'Month_cos', 'Day_sin', 'Day_cos', 'Hour_sin', 'Hour_cos',\n",
      "'area_name'],\n",
      "dtype='object')\n",
      "dataset sampled\n",
      "--- df_fake_3.pkl done---\n",
      "\n",
      "iteration 4\n",
      "os factor: 3 sample batch size: 8192 variability: 0.02\n",
      "[0]\n",
      "features 9\n",
      "{'d_in': np.int64(9), 'is_y_cond': True, 'num_classes': 56, 'rtdl_params': {'d_layers': [1024, 1024], 'dropout': 0.0}, 'dim_t': 128}\n",
      "mlp\n",
      "label embedding Embedding(56, 128)\n",
      "params loaded\n",
      "diffusion ready\n",
      "Index(['area_name', 'count', 'new_samples', 'perc.', 'delta'], dtype='object')\n",
      "new samples OK\n",
      "(53088, 14)\n",
      "Index(['Coord X', 'Coord Y', 'Duration', 'Day', 'Month', 'Hour', 'Incident',\n",
      "'Month_sin', 'Month_cos', 'Day_sin', 'Day_cos', 'Hour_sin', 'Hour_cos',\n",
      "'area_name'],\n",
      "dtype='object')\n",
      "dataset sampled\n",
      "--- df_fake_4.pkl done---\n",
      "\n",
      "iteration 5\n",
      "os factor: 3 sample batch size: 8192 variability: 0.02\n",
      "[0]\n",
      "features 9\n",
      "{'d_in': np.int64(9), 'is_y_cond': True, 'num_classes': 56, 'rtdl_params': {'d_layers': [1024, 1024], 'dropout': 0.0}, 'dim_t': 128}\n",
      "mlp\n",
      "label embedding Embedding(56, 128)\n",
      "params loaded\n",
      "diffusion ready\n",
      "Index(['area_name', 'count', 'new_samples', 'perc.', 'delta'], dtype='object')\n",
      "new samples OK\n",
      "(53088, 14)\n",
      "Index(['Coord X', 'Coord Y', 'Duration', 'Day', 'Month', 'Hour', 'Incident',\n",
      "'Month_sin', 'Month_cos', 'Day_sin', 'Day_cos', 'Hour_sin', 'Hour_cos',\n",
      "'area_name'],\n",
      "dtype='object')\n",
      "dataset sampled\n",
      "--- df_fake_5.pkl done---\n",
      "\n",
      "iteration 6\n",
      "os factor: 3 sample batch size: 8192 variability: 0.02\n",
      "[0]\n",
      "features 9\n",
      "{'d_in': np.int64(9), 'is_y_cond': True, 'num_classes': 56, 'rtdl_params': {'d_layers': [1024, 1024], 'dropout': 0.0}, 'dim_t': 128}\n",
      "mlp\n",
      "label embedding Embedding(56, 128)\n",
      "params loaded\n",
      "diffusion ready\n",
      "Index(['area_name', 'count', 'new_samples', 'perc.', 'delta'], dtype='object')\n",
      "new samples OK\n",
      "(53088, 14)\n",
      "Index(['Coord X', 'Coord Y', 'Duration', 'Day', 'Month', 'Hour', 'Incident',\n",
      "'Month_sin', 'Month_cos', 'Day_sin', 'Day_cos', 'Hour_sin', 'Hour_cos',\n",
      "'area_name'],\n",
      "dtype='object')\n",
      "dataset sampled\n",
      "--- df_fake_6.pkl done---\n",
      "\n",
      "iteration 7\n",
      "os factor: 3 sample batch size: 8192 variability: 0.02\n",
      "[0]\n",
      "features 9\n",
      "{'d_in': np.int64(9), 'is_y_cond': True, 'num_classes': 56, 'rtdl_params': {'d_layers': [1024, 1024], 'dropout': 0.0}, 'dim_t': 128}\n",
      "mlp\n",
      "label embedding Embedding(56, 128)\n",
      "params loaded\n",
      "diffusion ready\n",
      "Index(['area_name', 'count', 'new_samples', 'perc.', 'delta'], dtype='object')\n",
      "new samples OK\n",
      "(53088, 14)\n",
      "Index(['Coord X', 'Coord Y', 'Duration', 'Day', 'Month', 'Hour', 'Incident',\n",
      "'Month_sin', 'Month_cos', 'Day_sin', 'Day_cos', 'Hour_sin', 'Hour_cos',\n",
      "'area_name'],\n",
      "dtype='object')\n",
      "dataset sampled\n",
      "--- df_fake_7.pkl done---\n",
      "\n",
      "iteration 8\n",
      "os factor: 3 sample batch size: 8192 variability: 0.02\n",
      "[0]\n",
      "features 9\n",
      "{'d_in': np.int64(9), 'is_y_cond': True, 'num_classes': 56, 'rtdl_params': {'d_layers': [1024, 1024], 'dropout': 0.0}, 'dim_t': 128}\n",
      "mlp\n",
      "label embedding Embedding(56, 128)\n",
      "params loaded\n",
      "diffusion ready\n",
      "Index(['area_name', 'count', 'new_samples', 'perc.', 'delta'], dtype='object')\n",
      "new samples OK\n",
      "(53088, 14)\n",
      "Index(['Coord X', 'Coord Y', 'Duration', 'Day', 'Month', 'Hour', 'Incident',\n",
      "'Month_sin', 'Month_cos', 'Day_sin', 'Day_cos', 'Hour_sin', 'Hour_cos',\n",
      "'area_name'],\n",
      "dtype='object')\n",
      "dataset sampled\n",
      "--- df_fake_8.pkl done---\n",
      "\n",
      "iteration 9\n",
      "os factor: 3 sample batch size: 8192 variability: 0.02\n",
      "[0]\n",
      "features 9\n",
      "{'d_in': np.int64(9), 'is_y_cond': True, 'num_classes': 56, 'rtdl_params': {'d_layers': [1024, 1024], 'dropout': 0.0}, 'dim_t': 128}\n",
      "mlp\n",
      "label embedding Embedding(56, 128)\n",
      "params loaded\n",
      "diffusion ready\n",
      "Index(['area_name', 'count', 'new_samples', 'perc.', 'delta'], dtype='object')\n",
      "new samples OK\n",
      "(53088, 14)\n",
      "Index(['Coord X', 'Coord Y', 'Duration', 'Day', 'Month', 'Hour', 'Incident',\n",
      "'Month_sin', 'Month_cos', 'Day_sin', 'Day_cos', 'Hour_sin', 'Hour_cos',\n",
      "'area_name'],\n",
      "dtype='object')\n",
      "dataset sampled\n",
      "--- df_fake_9.pkl done---\n",
      "\n"
     ]
    }
   ],
   "source": [
    "for i in range(10):\n",
    "    print(\"iteration\", i)\n",
    "    filename = f\"df_fake_{i}.pkl\"\n",
    "    \n",
    "    process = subprocess.Popen(\n",
    "        [\"python\", \"sample.py\", \n",
    "         \"--load_as\", 'dqn_test', \n",
    "         \"--save_sample_as\", filename, \n",
    "         \"--os_factor\", \"3\", \n",
    "         \"--to_keep\", \"40\", \n",
    "         \"--value_span\", \"100\"],\n",
    "        stdout=subprocess.PIPE,\n",
    "        stderr=subprocess.STDOUT,\n",
    "        text=True,\n",
    "        bufsize=1  # pour forcer le flush ligne par ligne\n",
    "    )\n",
    "\n",
    "    # process.wait() # évite le lazy\n",
    "\n",
    "    line_count = 0\n",
    "    for line in process.stdout:\n",
    "        line_count += 1\n",
    "        if line_count % 50 == 0:\n",
    "            clear_output(wait=True)\n",
    "    \n",
    "        print(line.strip())\n",
    "\n",
    "    print(f\"--- {filename} done---\\n\")"
   ]
  },
  {
   "cell_type": "code",
   "execution_count": null,
   "id": "9a05cbfa-971c-4597-9c46-d804f4db8d82",
   "metadata": {},
   "outputs": [],
   "source": [
    "os.getcwd()"
   ]
  },
  {
   "cell_type": "code",
   "execution_count": null,
   "id": "1fcd84af-5121-4836-a2db-79b7eb8d7df6",
   "metadata": {},
   "outputs": [],
   "source": [
    "os.chdir(\"./Scripts/\")"
   ]
  },
  {
   "cell_type": "code",
   "execution_count": null,
   "id": "be0bbd74-a999-4a1e-ac95-02833a1bcf2e",
   "metadata": {},
   "outputs": [],
   "source": [
    "os.chdir(\"../\")"
   ]
  },
  {
   "cell_type": "markdown",
   "id": "12a259a8-3c61-4a35-8390-bb3544f470eb",
   "metadata": {},
   "source": [
    "# Generate environment"
   ]
  },
  {
   "cell_type": "code",
   "execution_count": 35,
   "id": "80313ba0-e299-4a5c-9de2-7da9f7ccb461",
   "metadata": {},
   "outputs": [
    {
     "name": "stdout",
     "output_type": "stream",
     "text": [
      "is probabilistic departure False\n"
     ]
    },
    {
     "name": "stderr",
     "output_type": "stream",
     "text": [
      "/media/michael/Fichiers/Fac/Thèse 1/Code/Scripts/generate_environment.py:443: DtypeWarning: Columns (7) have mixed types. Specify dtype option on import or set low_memory=False.\n",
      "  df_materiel = pd.read_csv(\"materiel_2018.csv\", sep=\";\")\n",
      "/media/michael/Fichiers/Fac/Thèse 1/Code/Scripts/generate_environment.py:449: DtypeWarning: Columns (22,23,28) have mixed types. Specify dtype option on import or set low_memory=False.\n",
      "  df_lieu = pd.read_csv(\"dbo.LIEU.csv\", sep=\";\")\n"
     ]
    },
    {
     "name": "stdout",
     "output_type": "stream",
     "text": [
      "window: 53088\n",
      "start_year 2018 start_inter 1 end_inter 53088\n",
      "362 197\n",
      "Day\n",
      "1      219\n",
      "2      133\n",
      "3      154\n",
      "4      165\n",
      "5      126\n",
      "      ... \n",
      "361    106\n",
      "362     86\n",
      "363    130\n",
      "364    131\n",
      "365    138\n",
      "Name: count, Length: 365, dtype: int64\n",
      "real 106176 done\n",
      "start_year 2018 start_inter 1 end_inter 53088\n",
      "(53088, 18)\n",
      "(53088, 19)\n",
      "20 282\n",
      "Day\n",
      "1      154\n",
      "2      149\n",
      "3      192\n",
      "4      190\n",
      "5      191\n",
      "      ... \n",
      "361    140\n",
      "362    135\n",
      "363    123\n",
      "364    121\n",
      "365     98\n",
      "Name: count, Length: 365, dtype: int64\n",
      "(53088, 21)\n",
      "(106176, 18)\n",
      "df_fake_0.pkl 106176 done\n",
      "Index(['num_inter', 'date', 'PDD', 'departure', 'zone', 'Duration', 'Month',\n",
      "       'Day', 'Hour', 'Minute', 'Coord X', 'Coord Y', 'Month_sin', 'Month_cos',\n",
      "       'Day_sin', 'Day_cos', 'Hour_sin', 'Hour_cos'],\n",
      "      dtype='object')\n",
      "global fake done 106176\n",
      "Planning done\n",
      "CPU times: user 4min 18s, sys: 730 ms, total: 4min 19s\n",
      "Wall time: 4min 19s\n"
     ]
    }
   ],
   "source": [
    "%%time\n",
    "\n",
    "%run generate_environment.py --sample_list df_fake_0.pkl --save_as \"df_pc_fake_1y.pkl\""
   ]
  },
  {
   "cell_type": "code",
   "execution_count": null,
   "id": "cb816ce6-e608-4032-85cf-3d69e4e921f1",
   "metadata": {},
   "outputs": [],
   "source": [
    "#--prob_dep"
   ]
  },
  {
   "cell_type": "code",
   "execution_count": null,
   "id": "a80a1857-cdd9-46d4-a6da-6e32a4f6b74d",
   "metadata": {},
   "outputs": [],
   "source": [
    "# %run generate_environment.py "
   ]
  },
  {
   "cell_type": "code",
   "execution_count": null,
   "id": "2eab0477-cafe-467c-9db2-c8820bea3a87",
   "metadata": {},
   "outputs": [],
   "source": [
    "os.getcwd()"
   ]
  },
  {
   "cell_type": "markdown",
   "id": "6b5c6e26-893d-4745-9dcd-f5830e49fe93",
   "metadata": {},
   "source": [
    "# Simulation"
   ]
  },
  {
   "cell_type": "code",
   "execution_count": null,
   "id": "0af1b061-984d-4756-8df7-e94c9921aed8",
   "metadata": {},
   "outputs": [],
   "source": [
    "os.chdir('../')"
   ]
  },
  {
   "cell_type": "code",
   "execution_count": null,
   "id": "01e0297c-2557-4f1a-ad79-10c2d67689b8",
   "metadata": {},
   "outputs": [],
   "source": [
    "os.getcwd()"
   ]
  },
  {
   "cell_type": "code",
   "execution_count": null,
   "id": "019d8bb7-967e-49cf-8bd9-96752d3a4910",
   "metadata": {},
   "outputs": [],
   "source": [
    "dic_tarif = {'v_required': 0,\n",
    "            'v_sent': 100,\n",
    "            'v_degraded':0,\n",
    "            'function_cancelled':0, #cancel departure\n",
    "            'function_not_found':0,\n",
    "            'v1_not_sent_from_1st_station':0,\n",
    "            'v_not_found_in_last_station':0,\n",
    "            'ff_required':0,\n",
    "            'ff_sent':0,\n",
    "            'ff_skill_mean':0,\n",
    "            'z1_sent': 0\n",
    "            }\n",
    "\n",
    "os.chdir('./Reward_weights')\n",
    "json.dump(dic_tarif, open(\"reward_weights.json\", \"w\"))\n",
    "os.chdir('../')"
   ]
  },
  {
   "cell_type": "code",
   "execution_count": null,
   "id": "e1f15e95-a09a-4f3e-b54e-68ac9a3c3968",
   "metadata": {},
   "outputs": [],
   "source": [
    "%%time\n",
    "\n",
    "%run simulation_start.py \\\n",
    "--dataset \"df_pc_real.pkl\" \\\n",
    "--start 1 \\\n",
    "--end 202 \\\n",
    "--constraint_factor 3 \\\n",
    "--reward_weights reward_weights.json \\\n",
    "--save_metrics_as \"sim_test\"\n"
   ]
  },
  {
   "cell_type": "code",
   "execution_count": null,
   "id": "b867dfb3-ea97-48a3-92fd-c7c6c422cf45",
   "metadata": {},
   "outputs": [],
   "source": [
    "os.chdir('../')"
   ]
  },
  {
   "cell_type": "code",
   "execution_count": null,
   "id": "5d62ca6f-9916-4263-87ad-bb307732d100",
   "metadata": {},
   "outputs": [],
   "source": [
    "os.getcwd()"
   ]
  },
  {
   "cell_type": "markdown",
   "id": "34fecfda-7411-412e-a33d-8a703c593d54",
   "metadata": {},
   "source": [
    "# Agent params"
   ]
  },
  {
   "cell_type": "code",
   "execution_count": null,
   "id": "e96a9b24-b7d3-459b-991a-8c76492c3928",
   "metadata": {},
   "outputs": [],
   "source": [
    "state_shape = (70,40)\n",
    "action_size = 70\n",
    "train_seed = 41\n",
    "\n",
    "os.chdir(\"./Data\")\n",
    "\n",
    "hyper_params = {\"state_size\" : 70*40,\n",
    "                \"action_size\" : action_size,\n",
    "                \"layer_size\" : 1024,\n",
    "                \"buffer_size\" : 5000, #100000, 128, 5000, 10000, 65 buffer_size > batch_size\n",
    "                \"batch_size\" : 256, #512, 256, 64, 32, 16, 8\n",
    "                \"update_every\" : 32, #1, 200, 500, 64, 32\n",
    "                \"per\" : 1, # 0 for curiosity > 0, else 1, 2\n",
    "                \"rdm\" : 0, # only if not per\n",
    "                \"munchausen\" : 1, #1\n",
    "                \"curiosity\" : 0, #Adds intrinsic curiosity to the extrinsic reward. 0 - only reward/ no curiosity, \n",
    "                                                                                    #1 - reward and curiosity, \n",
    "                                                                                    #2 - only curiosity\n",
    "                \"curiosity_size\" : 1024,\n",
    "                \"n_steps\" : 64, #5, 1, 50, 64\n",
    "                \"noisy\" : 0,\n",
    "                \"lr\" : 1e-3, #1e-3, 5e-4, 5e-3\n",
    "                \"lr_dec\" : 0, #0, 1, 2, 3\n",
    "                \"entropy_tau\" : 0.03, #0.03, 0.05 idem #-  Munch param\n",
    "                \"entropy_tau_coeff\" : 1e-2, #1e-2 #-  Munch param\n",
    "                \"lo\" : -1, #-  Munch param\n",
    "                \"alpha\" : 0.9, #-  Munch param\n",
    "                \"gamma\" : 0.99,\n",
    "                \"tau\" : 0.005, #1e-2, 5e-3\n",
    "                \"N\" : 32,# Number of quantiles 32, 64\n",
    "                \"entropy_coeff\" : 0.001,\n",
    "                \"device\" : str(device),\n",
    "                \"seed\" : train_seed}\n",
    "\n",
    "\n",
    "json.dump(hyper_params, open(\"hyper_params.json\", \"w\"))\n",
    "\n",
    "os.chdir(\"../\")"
   ]
  },
  {
   "cell_type": "code",
   "execution_count": null,
   "id": "f111eefe-ff77-4381-8e9b-d1f06e386f81",
   "metadata": {},
   "outputs": [],
   "source": [
    "os.chdir(\"./Scripts\")"
   ]
  },
  {
   "cell_type": "code",
   "execution_count": null,
   "id": "b51f6bab-2c56-411b-a92e-ed8478537c1c",
   "metadata": {},
   "outputs": [],
   "source": [
    "os.getcwd()"
   ]
  },
  {
   "cell_type": "code",
   "execution_count": null,
   "id": "742bf10e-750c-4b13-9c7b-f39f0e4acba1",
   "metadata": {},
   "outputs": [],
   "source": [
    "os.chdir(\"../\")"
   ]
  },
  {
   "cell_type": "code",
   "execution_count": null,
   "id": "7e44b4e8-d7f1-4b00-9187-7ffd09e754ea",
   "metadata": {},
   "outputs": [],
   "source": [
    "# 159264"
   ]
  },
  {
   "cell_type": "markdown",
   "id": "68e2aff2-3d72-439f-a320-fae5614dc106",
   "metadata": {},
   "source": [
    "# Agent train"
   ]
  },
  {
   "cell_type": "code",
   "execution_count": 232,
   "id": "e2e8ba13-aa95-493e-b810-1e175fa65f3a",
   "metadata": {},
   "outputs": [
    {
     "name": "stdout",
     "output_type": "stream",
     "text": [
      "lr decay: 1 decay_update: 100 PER 1\n",
      "Dueling_QNetwork(\n",
      "  (fc1): Linear(in_features=3280, out_features=1024, bias=True)\n",
      "  (fc2): Linear(in_features=1024, out_features=1024, bias=True)\n",
      "  (V): Linear(in_features=1024, out_features=1, bias=True)\n",
      "  (A): Linear(in_features=1024, out_features=80, bias=True)\n",
      ")\n",
      "Agent initialized\n",
      "Train mode\n"
     ]
    },
    {
     "ename": "FileNotFoundError",
     "evalue": "[Errno 2] No such file or directory: 'reward_weights.json'",
     "output_type": "error",
     "traceback": [
      "\u001b[0;31m---------------------------------------------------------------------------\u001b[0m",
      "\u001b[0;31mFileNotFoundError\u001b[0m                         Traceback (most recent call last)",
      "File \u001b[0;32m/media/michael/Fichiers/Fac/Thèse 1/Code/Scripts/agent_run.py:66\u001b[0m\n\u001b[1;32m     60\u001b[0m os\u001b[38;5;241m.\u001b[39mchdir(\u001b[38;5;124m'\u001b[39m\u001b[38;5;124m../\u001b[39m\u001b[38;5;124m'\u001b[39m)\n\u001b[1;32m     62\u001b[0m \u001b[38;5;66;03m### LOAD ENVIRONMENT VARIABLES ###\u001b[39;00m\n\u001b[1;32m     64\u001b[0m dic_tarif, dic_vehicles, dic_functions, df_skills, dic_roles_skills, dic_roles, planning, dic_inter, \\\n\u001b[1;32m     65\u001b[0m dic_ff, dic_indic, dic_indic_old, Z_1, dic_lent, dic_station_distance, df_pc, old_date, date_reference, \\\n\u001b[0;32m---> 66\u001b[0m skills_updated \u001b[38;5;241m=\u001b[39m \u001b[43mload_environment_variables\u001b[49m\u001b[43m(\u001b[49m\u001b[43margs\u001b[49m\u001b[38;5;241;43m.\u001b[39;49m\u001b[43mreward_weights\u001b[49m\u001b[43m,\u001b[49m\u001b[43m \u001b[49m\u001b[43margs\u001b[49m\u001b[38;5;241;43m.\u001b[39;49m\u001b[43mconstraint_factor\u001b[49m\u001b[43m,\u001b[49m\u001b[43m \u001b[49m\u001b[43margs\u001b[49m\u001b[38;5;241;43m.\u001b[39;49m\u001b[43mdataset\u001b[49m\u001b[43m,\u001b[49m\u001b[43m \u001b[49m\u001b[43margs\u001b[49m\u001b[38;5;241;43m.\u001b[39;49m\u001b[43mstart\u001b[49m\u001b[43m,\u001b[49m\u001b[43m \u001b[49m\u001b[43margs\u001b[49m\u001b[38;5;241;43m.\u001b[39;49m\u001b[43mend\u001b[49m\u001b[43m)\u001b[49m\n\u001b[1;32m     68\u001b[0m suap_sent, ginc_sent, suap_lent, vehicle_out, num_d, score, action_num \u001b[38;5;241m=\u001b[39m \u001b[38;5;241m0\u001b[39m, \u001b[38;5;241m0\u001b[39m, \u001b[38;5;241m0\u001b[39m, \u001b[38;5;241m0\u001b[39m, \u001b[38;5;241m42\u001b[39m, \u001b[38;5;241m0\u001b[39m, \u001b[38;5;241m0\u001b[39m\n\u001b[1;32m     69\u001b[0m suap_needed, suap_to_return, all_ff_waiting, v_waiting, \\\n\u001b[1;32m     70\u001b[0m already_checked, suap_returning, following_depart \u001b[38;5;241m=\u001b[39m \u001b[38;5;28;01mFalse\u001b[39;00m,\u001b[38;5;28;01mFalse\u001b[39;00m,\u001b[38;5;28;01mFalse\u001b[39;00m,\u001b[38;5;28;01mFalse\u001b[39;00m,\u001b[38;5;28;01mFalse\u001b[39;00m,\u001b[38;5;28;01mFalse\u001b[39;00m,\u001b[38;5;28;01mFalse\u001b[39;00m\n",
      "File \u001b[0;32m/media/michael/Fichiers/Fac/Thèse 1/Code/Scripts/collective_functions.py:80\u001b[0m, in \u001b[0;36mload_environment_variables\u001b[0;34m(reward_weights, constraint_factor, dataset, start, end)\u001b[0m\n\u001b[1;32m     76\u001b[0m \u001b[38;5;28;01mdef\u001b[39;00m \u001b[38;5;21mload_environment_variables\u001b[39m(reward_weights, constraint_factor, dataset, start, end):\n\u001b[1;32m     78\u001b[0m     os\u001b[38;5;241m.\u001b[39mchdir(\u001b[38;5;124m'\u001b[39m\u001b[38;5;124m./Reward_weights\u001b[39m\u001b[38;5;124m'\u001b[39m)\n\u001b[0;32m---> 80\u001b[0m     dic_tarif \u001b[38;5;241m=\u001b[39m json\u001b[38;5;241m.\u001b[39mload(\u001b[38;5;28;43mopen\u001b[39;49m\u001b[43m(\u001b[49m\u001b[43mreward_weights\u001b[49m\u001b[43m)\u001b[49m)\n\u001b[1;32m     81\u001b[0m     \u001b[38;5;28mprint\u001b[39m(\u001b[38;5;124m\"\u001b[39m\u001b[38;5;124mReward weights\u001b[39m\u001b[38;5;124m\"\u001b[39m, dic_tarif)\n\u001b[1;32m     83\u001b[0m     os\u001b[38;5;241m.\u001b[39mchdir(\u001b[38;5;124m'\u001b[39m\u001b[38;5;124m../Data_environment\u001b[39m\u001b[38;5;124m'\u001b[39m)\n",
      "\u001b[0;31mFileNotFoundError\u001b[0m: [Errno 2] No such file or directory: 'reward_weights.json'"
     ]
    },
    {
     "name": "stdout",
     "output_type": "stream",
     "text": [
      "CPU times: user 147 ms, sys: 26 ms, total: 173 ms\n",
      "Wall time: 258 ms\n"
     ]
    }
   ],
   "source": [
    "%%time\n",
    "\n",
    "%run agent_run.py \\\n",
    "--model_name model_a \\\n",
    "--hyper_params hyper_params.json \\\n",
    "--dataset df_pc_fake.pkl \\\n",
    "--start 1 \\\n",
    "--end 100 \\\n",
    "--constraint_factor 3 \\\n",
    "--reward_weights reward_weights.json \\\n",
    "--save_metrics_as metrics_a"
   ]
  },
  {
   "cell_type": "code",
   "execution_count": null,
   "id": "0ed0d03e-8434-4caf-bb4e-62799bfcf88e",
   "metadata": {},
   "outputs": [],
   "source": []
  },
  {
   "cell_type": "markdown",
   "id": "05076ce8-1281-46aa-8e4b-5fba990deb42",
   "metadata": {},
   "source": [
    "# Agent test"
   ]
  },
  {
   "cell_type": "code",
   "execution_count": null,
   "id": "cbd0246e-51d3-43a0-b649-be401f1d80d6",
   "metadata": {},
   "outputs": [],
   "source": [
    "%%time\n",
    "\n",
    "%run agent_run.py \n",
    "--model_name model_a \\\n",
    "--hyper_params hyper_params.json \\\n",
    "--dataset df_pc_real.pkl \\\n",
    "--start 1 \\\n",
    "--end 159264 \\\n",
    "--constraint_factor 3 \\\n",
    "--reward_weights reward_weights.json \\\n",
    "--save_metrics_as metrics_a \\\n",
    "--eps_fixed"
   ]
  },
  {
   "cell_type": "code",
   "execution_count": null,
   "id": "bca72c60-ab68-4ac6-a403-b263265d8aaf",
   "metadata": {},
   "outputs": [],
   "source": []
  },
  {
   "cell_type": "markdown",
   "id": "cb88262f-b866-4664-a7a1-4d79d0ea3bf1",
   "metadata": {},
   "source": [
    "# Plot"
   ]
  },
  {
   "cell_type": "code",
   "execution_count": null,
   "id": "d5e2c3c6-9130-4148-adaa-c48146b833de",
   "metadata": {},
   "outputs": [],
   "source": [
    "# vehicle_agent_real.npy"
   ]
  },
  {
   "cell_type": "code",
   "execution_count": null,
   "id": "29308443-bee6-4f23-861b-2d09edff6af9",
   "metadata": {},
   "outputs": [],
   "source": [
    "os.getcwd()"
   ]
  },
  {
   "cell_type": "code",
   "execution_count": null,
   "id": "b6b1921a-dafc-40c2-b368-7445e71ec0a7",
   "metadata": {},
   "outputs": [],
   "source": [
    "os.chdir(\"./Plots\")"
   ]
  },
  {
   "cell_type": "code",
   "execution_count": null,
   "id": "af4f9b2d-6bd9-4e07-bd6e-c06638cbeb92",
   "metadata": {},
   "outputs": [],
   "source": [
    "os.chdir(\"../\")"
   ]
  },
  {
   "cell_type": "code",
   "execution_count": null,
   "id": "a7601d5b-9edf-46ae-a025-57650ba7bab8",
   "metadata": {},
   "outputs": [],
   "source": [
    "%%time\n",
    "\n",
    "%run plot_evo.py sim_v_sent_100_2_vehicle_real.npy vehicle_agent_real.npy "
   ]
  },
  {
   "cell_type": "code",
   "execution_count": null,
   "id": "bff5a4e1-0e15-416d-8c7f-74a1391624ed",
   "metadata": {},
   "outputs": [],
   "source": [
    "os.getcwd()"
   ]
  },
  {
   "cell_type": "markdown",
   "id": "1c5c807b-ccf7-48b6-8c61-f7485a27b5e6",
   "metadata": {},
   "source": [
    "# Stats"
   ]
  },
  {
   "cell_type": "code",
   "execution_count": null,
   "id": "989df18a-b45e-4e13-8826-c4e91c4a0352",
   "metadata": {},
   "outputs": [],
   "source": [
    "df_pc = pd.read_pickle(dataset)"
   ]
  },
  {
   "cell_type": "code",
   "execution_count": null,
   "id": "12be70d7-1f93-4400-9992-b3bd6b6e9add",
   "metadata": {},
   "outputs": [],
   "source": []
  },
  {
   "cell_type": "code",
   "execution_count": null,
   "id": "da047104-4d21-48c4-83ef-8bd6f6a830db",
   "metadata": {},
   "outputs": [],
   "source": [
    "os.chdir('./Plots')"
   ]
  },
  {
   "cell_type": "code",
   "execution_count": null,
   "id": "c577c270-216b-4758-af4c-94bf80a57fc1",
   "metadata": {},
   "outputs": [],
   "source": [
    "dic_indic_agent = load(open('dic_indic_agent.pkl', 'rb'))\n",
    "dic_indic_simulation = load(open('dic_indic_simulation.pkl', 'rb'))"
   ]
  },
  {
   "cell_type": "code",
   "execution_count": null,
   "id": "6607fe2e-d390-4692-be16-3a2989905ed6",
   "metadata": {},
   "outputs": [],
   "source": [
    "# best\n",
    "\n",
    "dic_sum_simulation = reduce_dic(dic_indic_simulation)\n",
    "dic_sum_simulation"
   ]
  },
  {
   "cell_type": "code",
   "execution_count": null,
   "id": "a9491e5f-0cc3-4629-a462-e5dc23b38cab",
   "metadata": {},
   "outputs": [],
   "source": [
    "# random\n",
    "\n",
    "dic_sum_simulation = reduce_dic(dic_indic_simulation)\n",
    "dic_sum_simulation"
   ]
  },
  {
   "cell_type": "code",
   "execution_count": null,
   "id": "32784f9c-e222-434e-804f-b350e642124a",
   "metadata": {},
   "outputs": [],
   "source": [
    "dic_sum_agent = reduce_dic(dic_indic_agent)\n",
    "dic_sum_agent"
   ]
  },
  {
   "cell_type": "code",
   "execution_count": null,
   "id": "4f4eeba2-f8ba-4cba-b782-7fe1e276b057",
   "metadata": {},
   "outputs": [],
   "source": []
  },
  {
   "cell_type": "code",
   "execution_count": null,
   "id": "39f6e8bf-c835-4744-b0cc-89f8ec5cd654",
   "metadata": {
    "scrolled": true
   },
   "outputs": [],
   "source": [
    "%%time\n",
    "\n",
    "%run agent_baseline.py --hyper_params hyper_params.json --dataset \"df_pc_fake.pkl\" --eps_update 4000"
   ]
  },
  {
   "cell_type": "code",
   "execution_count": null,
   "id": "a3b9e434-7757-438c-837f-f34db6ab6a29",
   "metadata": {},
   "outputs": [],
   "source": [
    "os.chdir(\"../\")\n"
   ]
  },
  {
   "cell_type": "code",
   "execution_count": null,
   "id": "9505ac7e-10c8-403b-859c-72da1148ac37",
   "metadata": {},
   "outputs": [],
   "source": [
    "%%time\n",
    "\n",
    "%run agent_test.py --hyper_params hyper_params.json --dataset \"df_pc_fake.pkl\" --eps_fixed True --eps_update 4000"
   ]
  },
  {
   "cell_type": "code",
   "execution_count": null,
   "id": "08cc86f3-5d19-4aef-9091-095568942e9e",
   "metadata": {},
   "outputs": [],
   "source": [
    "%%time\n",
    "\n",
    "%run agent_run.py --hyper_params hyper_params.json --dataset \"df_pc_fake.pkl\" --eps_update 4000 --eps_fixed False"
   ]
  },
  {
   "cell_type": "code",
   "execution_count": null,
   "id": "b9adfcdb-f501-4cd3-8aad-18d01e473fea",
   "metadata": {},
   "outputs": [],
   "source": []
  },
  {
   "cell_type": "code",
   "execution_count": null,
   "id": "efb0e079-ca0a-426c-baca-93c98cd7af9a",
   "metadata": {
    "scrolled": true
   },
   "outputs": [],
   "source": [
    "vehicle_evo_real = vehicle_evo\n",
    "np.save(\"vehicle_evo_real.npy\", vehicle_evo_real)\n",
    "\n",
    "%run plot_evo.py --vehicle_evo_fake True --vehicle_evo_real True"
   ]
  },
  {
   "cell_type": "code",
   "execution_count": null,
   "id": "658bf059-5c03-4118-b147-5e329e5fed6c",
   "metadata": {},
   "outputs": [],
   "source": [
    "os.getcwd()"
   ]
  },
  {
   "cell_type": "code",
   "execution_count": null,
   "id": "08311592-59cf-43b2-b4fd-63470006792a",
   "metadata": {},
   "outputs": [],
   "source": [
    "os.chdir('./Scripts')"
   ]
  },
  {
   "cell_type": "code",
   "execution_count": null,
   "id": "e54e7925-f52e-4eb0-9566-66288ce3274a",
   "metadata": {},
   "outputs": [],
   "source": [
    "os.chdir('./Data_environment')"
   ]
  },
  {
   "cell_type": "code",
   "execution_count": null,
   "id": "c5e2da61-2414-4d34-aa50-242fe8da3a47",
   "metadata": {},
   "outputs": [],
   "source": []
  },
  {
   "cell_type": "code",
   "execution_count": null,
   "id": "0499cbd8-821a-4a35-b780-b3e29c5a2a3f",
   "metadata": {},
   "outputs": [],
   "source": [
    "# sim best all metrics\n",
    "# sim rand all metrics\n",
    "# agent train.test all metrics"
   ]
  },
  {
   "cell_type": "markdown",
   "id": "fbc94654-bfd4-46da-81b4-5e4f7ee7e79c",
   "metadata": {},
   "source": [
    "# TEST"
   ]
  },
  {
   "cell_type": "code",
   "execution_count": 19,
   "id": "e497e083-86a5-47e7-ac8d-60835c3ce35d",
   "metadata": {},
   "outputs": [],
   "source": [
    "os.chdir('./Data')\n",
    "\n",
    "csv_file = \"inters.csv\"\n",
    "df_inter = pd.read_csv(csv_file, sep=\";\")"
   ]
  },
  {
   "cell_type": "code",
   "execution_count": 20,
   "id": "76577193-abaf-48ef-9604-782ee65657ed",
   "metadata": {},
   "outputs": [
    {
     "data": {
      "text/html": [
       "<div>\n",
       "<style scoped>\n",
       "    .dataframe tbody tr th:only-of-type {\n",
       "        vertical-align: middle;\n",
       "    }\n",
       "\n",
       "    .dataframe tbody tr th {\n",
       "        vertical-align: top;\n",
       "    }\n",
       "\n",
       "    .dataframe thead th {\n",
       "        text-align: right;\n",
       "    }\n",
       "</style>\n",
       "<table border=\"1\" class=\"dataframe\">\n",
       "  <thead>\n",
       "    <tr style=\"text-align: right;\">\n",
       "      <th></th>\n",
       "      <th>IU de l'intervention</th>\n",
       "      <th>Numéro d'intervention</th>\n",
       "      <th>Date Heure Début Intervention</th>\n",
       "      <th>Date Heure fin Intervention</th>\n",
       "      <th>Date Heure premier départ</th>\n",
       "      <th>Date Heure 1er arrivée sur les lieux</th>\n",
       "      <th>Date Heure Dernier Retour Personnel</th>\n",
       "      <th>Date Heure Dernier Retour Engin</th>\n",
       "      <th>Sinistre initial - IU</th>\n",
       "      <th>Sinistre initial - Nom</th>\n",
       "      <th>Sinistre initial - Famille</th>\n",
       "      <th>Sinistre initial - Categorie</th>\n",
       "      <th>Localisation initiale - Coord X</th>\n",
       "      <th>Localisation initiale - Coord Y</th>\n",
       "      <th>Localisation initiale - Secteur Geo lié à la Commune</th>\n",
       "    </tr>\n",
       "  </thead>\n",
       "  <tbody>\n",
       "    <tr>\n",
       "      <th>0</th>\n",
       "      <td>00000001-18-1-1</td>\n",
       "      <td>1</td>\n",
       "      <td>01/01/2018 00:05:21</td>\n",
       "      <td>01/01/2018 01:01:47</td>\n",
       "      <td>01/01/2018 00:09:51</td>\n",
       "      <td>01/01/2018 00:13:07</td>\n",
       "      <td>01/01/2018 01:00:58</td>\n",
       "      <td>01/01/2018 01:00:58</td>\n",
       "      <td>395.0</td>\n",
       "      <td>U1 MALAISE DANS UN ERP</td>\n",
       "      <td>MALAISE - MALADIE</td>\n",
       "      <td>SECOURS A VICTIMES</td>\n",
       "      <td>573603.00</td>\n",
       "      <td>6280852.00</td>\n",
       "      <td>URBAIN</td>\n",
       "    </tr>\n",
       "    <tr>\n",
       "      <th>1</th>\n",
       "      <td>00000002-18-1-1</td>\n",
       "      <td>2</td>\n",
       "      <td>01/01/2018 00:11:43</td>\n",
       "      <td>01/01/2018 00:44:46</td>\n",
       "      <td>01/01/2018 00:14:15</td>\n",
       "      <td>NaN</td>\n",
       "      <td>01/01/2018 00:43:07</td>\n",
       "      <td>01/01/2018 00:43:07</td>\n",
       "      <td>221.0</td>\n",
       "      <td>AUTRES FEUX EN PLEIN AIR (SANS PRÉCISION)</td>\n",
       "      <td>AUTRES INCENDIES</td>\n",
       "      <td>INCENDIE</td>\n",
       "      <td>558522.00</td>\n",
       "      <td>6263928.00</td>\n",
       "      <td>*</td>\n",
       "    </tr>\n",
       "    <tr>\n",
       "      <th>2</th>\n",
       "      <td>00000003-18-1-1</td>\n",
       "      <td>3</td>\n",
       "      <td>01/01/2018 00:13:35</td>\n",
       "      <td>01/01/2018 00:37:34</td>\n",
       "      <td>01/01/2018 00:15:38</td>\n",
       "      <td>NaN</td>\n",
       "      <td>01/01/2018 00:37:27</td>\n",
       "      <td>01/01/2018 00:37:27</td>\n",
       "      <td>397.0</td>\n",
       "      <td>U1 MALAISE SUR VOIE PUBLIQUE</td>\n",
       "      <td>MALAISE - MALADIE</td>\n",
       "      <td>SECOURS A VICTIMES</td>\n",
       "      <td>574303.92</td>\n",
       "      <td>6279553.02</td>\n",
       "      <td>URBAIN</td>\n",
       "    </tr>\n",
       "    <tr>\n",
       "      <th>3</th>\n",
       "      <td>00000004-18-1-1</td>\n",
       "      <td>4</td>\n",
       "      <td>01/01/2018 00:13:46</td>\n",
       "      <td>01/01/2018 03:00:34</td>\n",
       "      <td>01/01/2018 00:21:32</td>\n",
       "      <td>01/01/2018 00:27:50</td>\n",
       "      <td>01/01/2018 02:59:49</td>\n",
       "      <td>01/01/2018 02:59:49</td>\n",
       "      <td>359.0</td>\n",
       "      <td>EU MALAISE GRAVE A DOMICILE</td>\n",
       "      <td>MALAISE - MALADIE</td>\n",
       "      <td>SECOURS A VICTIMES</td>\n",
       "      <td>571710.67</td>\n",
       "      <td>6305442.28</td>\n",
       "      <td>*</td>\n",
       "    </tr>\n",
       "    <tr>\n",
       "      <th>4</th>\n",
       "      <td>00000005-18-1-1</td>\n",
       "      <td>5</td>\n",
       "      <td>01/01/2018 00:14:53</td>\n",
       "      <td>01/01/2018 00:55:25</td>\n",
       "      <td>01/01/2018 00:18:37</td>\n",
       "      <td>01/01/2018 00:27:13</td>\n",
       "      <td>01/01/2018 00:55:07</td>\n",
       "      <td>01/01/2018 00:55:07</td>\n",
       "      <td>387.0</td>\n",
       "      <td>U1 MALAISE A DOMICILE</td>\n",
       "      <td>MALAISE - MALADIE</td>\n",
       "      <td>SECOURS A VICTIMES</td>\n",
       "      <td>569896.00</td>\n",
       "      <td>6265672.00</td>\n",
       "      <td>*</td>\n",
       "    </tr>\n",
       "  </tbody>\n",
       "</table>\n",
       "</div>"
      ],
      "text/plain": [
       "  IU de l'intervention  Numéro d'intervention Date Heure Début Intervention  \\\n",
       "0      00000001-18-1-1                      1           01/01/2018 00:05:21   \n",
       "1      00000002-18-1-1                      2           01/01/2018 00:11:43   \n",
       "2      00000003-18-1-1                      3           01/01/2018 00:13:35   \n",
       "3      00000004-18-1-1                      4           01/01/2018 00:13:46   \n",
       "4      00000005-18-1-1                      5           01/01/2018 00:14:53   \n",
       "\n",
       "  Date Heure fin Intervention Date Heure premier départ  \\\n",
       "0         01/01/2018 01:01:47       01/01/2018 00:09:51   \n",
       "1         01/01/2018 00:44:46       01/01/2018 00:14:15   \n",
       "2         01/01/2018 00:37:34       01/01/2018 00:15:38   \n",
       "3         01/01/2018 03:00:34       01/01/2018 00:21:32   \n",
       "4         01/01/2018 00:55:25       01/01/2018 00:18:37   \n",
       "\n",
       "  Date Heure 1er arrivée sur les lieux Date Heure Dernier Retour Personnel  \\\n",
       "0                  01/01/2018 00:13:07                 01/01/2018 01:00:58   \n",
       "1                                  NaN                 01/01/2018 00:43:07   \n",
       "2                                  NaN                 01/01/2018 00:37:27   \n",
       "3                  01/01/2018 00:27:50                 01/01/2018 02:59:49   \n",
       "4                  01/01/2018 00:27:13                 01/01/2018 00:55:07   \n",
       "\n",
       "  Date Heure Dernier Retour Engin  Sinistre initial - IU  \\\n",
       "0             01/01/2018 01:00:58                  395.0   \n",
       "1             01/01/2018 00:43:07                  221.0   \n",
       "2             01/01/2018 00:37:27                  397.0   \n",
       "3             01/01/2018 02:59:49                  359.0   \n",
       "4             01/01/2018 00:55:07                  387.0   \n",
       "\n",
       "                      Sinistre initial - Nom Sinistre initial - Famille  \\\n",
       "0                     U1 MALAISE DANS UN ERP          MALAISE - MALADIE   \n",
       "1  AUTRES FEUX EN PLEIN AIR (SANS PRÉCISION)           AUTRES INCENDIES   \n",
       "2               U1 MALAISE SUR VOIE PUBLIQUE          MALAISE - MALADIE   \n",
       "3                EU MALAISE GRAVE A DOMICILE          MALAISE - MALADIE   \n",
       "4                      U1 MALAISE A DOMICILE          MALAISE - MALADIE   \n",
       "\n",
       "  Sinistre initial - Categorie  Localisation initiale - Coord X  \\\n",
       "0           SECOURS A VICTIMES                        573603.00   \n",
       "1                     INCENDIE                        558522.00   \n",
       "2           SECOURS A VICTIMES                        574303.92   \n",
       "3           SECOURS A VICTIMES                        571710.67   \n",
       "4           SECOURS A VICTIMES                        569896.00   \n",
       "\n",
       "   Localisation initiale - Coord Y  \\\n",
       "0                       6280852.00   \n",
       "1                       6263928.00   \n",
       "2                       6279553.02   \n",
       "3                       6305442.28   \n",
       "4                       6265672.00   \n",
       "\n",
       "  Localisation initiale - Secteur Geo lié à la Commune  \n",
       "0                                             URBAIN    \n",
       "1                                                  *    \n",
       "2                                             URBAIN    \n",
       "3                                                  *    \n",
       "4                                                  *    "
      ]
     },
     "execution_count": 20,
     "metadata": {},
     "output_type": "execute_result"
    }
   ],
   "source": [
    "df_inter.head()"
   ]
  },
  {
   "cell_type": "code",
   "execution_count": 28,
   "id": "96f489d6-b052-4cb3-bd7e-bf240a1bbe44",
   "metadata": {},
   "outputs": [],
   "source": [
    "frmt = '%d/%m/%Y %H:%M:%S'\n",
    "df_inter['heure_debut'] = df_inter['Date Heure Début Intervention']\n",
    "df_inter['heure_debut'] = pd.to_datetime(df_inter['heure_debut'], format=frmt)\n",
    "df_inter['heure_debut'] = df_inter['heure_debut'].dt.floor('s')\n",
    "# s = pd.Series(df_inter['heure_debut'].values.astype(np.float32))\n",
    "# s[s<0] = np.nan\n",
    "# df_inter['heure_debut'] = pd.to_datetime(s.interpolate())\n",
    "\n",
    "\n",
    "df_inter[\"minute\"] = df_inter[\"heure_debut\"].dt.minute"
   ]
  },
  {
   "cell_type": "code",
   "execution_count": 29,
   "id": "8770ecdc-e06d-42e9-ac9e-7e0af81c6c72",
   "metadata": {},
   "outputs": [
    {
     "data": {
      "text/html": [
       "<div>\n",
       "<style scoped>\n",
       "    .dataframe tbody tr th:only-of-type {\n",
       "        vertical-align: middle;\n",
       "    }\n",
       "\n",
       "    .dataframe tbody tr th {\n",
       "        vertical-align: top;\n",
       "    }\n",
       "\n",
       "    .dataframe thead th {\n",
       "        text-align: right;\n",
       "    }\n",
       "</style>\n",
       "<table border=\"1\" class=\"dataframe\">\n",
       "  <thead>\n",
       "    <tr style=\"text-align: right;\">\n",
       "      <th></th>\n",
       "      <th>Date Heure Début Intervention</th>\n",
       "      <th>heure_debut</th>\n",
       "      <th>minute</th>\n",
       "    </tr>\n",
       "  </thead>\n",
       "  <tbody>\n",
       "    <tr>\n",
       "      <th>0</th>\n",
       "      <td>01/01/2018 00:05:21</td>\n",
       "      <td>2018-01-01 00:05:21</td>\n",
       "      <td>5</td>\n",
       "    </tr>\n",
       "    <tr>\n",
       "      <th>1</th>\n",
       "      <td>01/01/2018 00:11:43</td>\n",
       "      <td>2018-01-01 00:11:43</td>\n",
       "      <td>11</td>\n",
       "    </tr>\n",
       "    <tr>\n",
       "      <th>2</th>\n",
       "      <td>01/01/2018 00:13:35</td>\n",
       "      <td>2018-01-01 00:13:35</td>\n",
       "      <td>13</td>\n",
       "    </tr>\n",
       "    <tr>\n",
       "      <th>3</th>\n",
       "      <td>01/01/2018 00:13:46</td>\n",
       "      <td>2018-01-01 00:13:46</td>\n",
       "      <td>13</td>\n",
       "    </tr>\n",
       "    <tr>\n",
       "      <th>4</th>\n",
       "      <td>01/01/2018 00:14:53</td>\n",
       "      <td>2018-01-01 00:14:53</td>\n",
       "      <td>14</td>\n",
       "    </tr>\n",
       "  </tbody>\n",
       "</table>\n",
       "</div>"
      ],
      "text/plain": [
       "  Date Heure Début Intervention         heure_debut  minute\n",
       "0           01/01/2018 00:05:21 2018-01-01 00:05:21       5\n",
       "1           01/01/2018 00:11:43 2018-01-01 00:11:43      11\n",
       "2           01/01/2018 00:13:35 2018-01-01 00:13:35      13\n",
       "3           01/01/2018 00:13:46 2018-01-01 00:13:46      13\n",
       "4           01/01/2018 00:14:53 2018-01-01 00:14:53      14"
      ]
     },
     "execution_count": 29,
     "metadata": {},
     "output_type": "execute_result"
    }
   ],
   "source": [
    "df_inter[[\"Date Heure Début Intervention\", 'heure_debut', \"minute\"]].head()"
   ]
  },
  {
   "cell_type": "code",
   "execution_count": null,
   "id": "63bcae40-2287-4f0b-ac13-f2cbaa857445",
   "metadata": {},
   "outputs": [],
   "source": []
  },
  {
   "cell_type": "code",
   "execution_count": null,
   "id": "a187857c-1f69-41b1-877b-af1ab74de99a",
   "metadata": {},
   "outputs": [],
   "source": []
  },
  {
   "cell_type": "code",
   "execution_count": 7,
   "id": "4867fcbd-bac1-4422-a246-1408bf6dbac9",
   "metadata": {},
   "outputs": [],
   "source": [
    "os.chdir(\"../\")"
   ]
  },
  {
   "cell_type": "code",
   "execution_count": 2,
   "id": "010b8bb3-8f57-4929-a765-b3e5c605e80b",
   "metadata": {},
   "outputs": [],
   "source": [
    "os.chdir(\"./Data_preprocessed/\")"
   ]
  },
  {
   "cell_type": "code",
   "execution_count": 4,
   "id": "b0c373ac-e482-41c4-8515-0f1215465795",
   "metadata": {},
   "outputs": [],
   "source": [
    "df_real = pickle.load(open('df_real.pkl', 'rb'))"
   ]
  },
  {
   "cell_type": "code",
   "execution_count": 5,
   "id": "b12db5f1-a09f-48b8-bf34-937d660bc0ad",
   "metadata": {},
   "outputs": [
    {
     "data": {
      "text/html": [
       "<div>\n",
       "<style scoped>\n",
       "    .dataframe tbody tr th:only-of-type {\n",
       "        vertical-align: middle;\n",
       "    }\n",
       "\n",
       "    .dataframe tbody tr th {\n",
       "        vertical-align: top;\n",
       "    }\n",
       "\n",
       "    .dataframe thead th {\n",
       "        text-align: right;\n",
       "    }\n",
       "</style>\n",
       "<table border=\"1\" class=\"dataframe\">\n",
       "  <thead>\n",
       "    <tr style=\"text-align: right;\">\n",
       "      <th></th>\n",
       "      <th>Coord X</th>\n",
       "      <th>Coord Y</th>\n",
       "      <th>Month</th>\n",
       "      <th>Day</th>\n",
       "      <th>Hour</th>\n",
       "      <th>Duration</th>\n",
       "      <th>Incident</th>\n",
       "    </tr>\n",
       "  </thead>\n",
       "  <tbody>\n",
       "    <tr>\n",
       "      <th>0</th>\n",
       "      <td>573603.00</td>\n",
       "      <td>6280852.00</td>\n",
       "      <td>1</td>\n",
       "      <td>1</td>\n",
       "      <td>0</td>\n",
       "      <td>54.0</td>\n",
       "      <td>4</td>\n",
       "    </tr>\n",
       "    <tr>\n",
       "      <th>1</th>\n",
       "      <td>558522.00</td>\n",
       "      <td>6263928.00</td>\n",
       "      <td>1</td>\n",
       "      <td>1</td>\n",
       "      <td>0</td>\n",
       "      <td>32.0</td>\n",
       "      <td>17</td>\n",
       "    </tr>\n",
       "    <tr>\n",
       "      <th>2</th>\n",
       "      <td>574303.92</td>\n",
       "      <td>6279553.02</td>\n",
       "      <td>1</td>\n",
       "      <td>1</td>\n",
       "      <td>0</td>\n",
       "      <td>25.0</td>\n",
       "      <td>7</td>\n",
       "    </tr>\n",
       "    <tr>\n",
       "      <th>3</th>\n",
       "      <td>571710.67</td>\n",
       "      <td>6305442.28</td>\n",
       "      <td>1</td>\n",
       "      <td>1</td>\n",
       "      <td>0</td>\n",
       "      <td>167.0</td>\n",
       "      <td>26</td>\n",
       "    </tr>\n",
       "    <tr>\n",
       "      <th>4</th>\n",
       "      <td>569896.00</td>\n",
       "      <td>6265672.00</td>\n",
       "      <td>1</td>\n",
       "      <td>1</td>\n",
       "      <td>0</td>\n",
       "      <td>41.0</td>\n",
       "      <td>1</td>\n",
       "    </tr>\n",
       "    <tr>\n",
       "      <th>...</th>\n",
       "      <td>...</td>\n",
       "      <td>...</td>\n",
       "      <td>...</td>\n",
       "      <td>...</td>\n",
       "      <td>...</td>\n",
       "      <td>...</td>\n",
       "      <td>...</td>\n",
       "    </tr>\n",
       "    <tr>\n",
       "      <th>53083</th>\n",
       "      <td>513670.00</td>\n",
       "      <td>6226244.00</td>\n",
       "      <td>12</td>\n",
       "      <td>365</td>\n",
       "      <td>23</td>\n",
       "      <td>61.0</td>\n",
       "      <td>1</td>\n",
       "    </tr>\n",
       "    <tr>\n",
       "      <th>53084</th>\n",
       "      <td>518810.37</td>\n",
       "      <td>6218557.52</td>\n",
       "      <td>12</td>\n",
       "      <td>365</td>\n",
       "      <td>23</td>\n",
       "      <td>80.0</td>\n",
       "      <td>13</td>\n",
       "    </tr>\n",
       "    <tr>\n",
       "      <th>53085</th>\n",
       "      <td>583285.69</td>\n",
       "      <td>6288301.82</td>\n",
       "      <td>12</td>\n",
       "      <td>365</td>\n",
       "      <td>23</td>\n",
       "      <td>66.0</td>\n",
       "      <td>4</td>\n",
       "    </tr>\n",
       "    <tr>\n",
       "      <th>53086</th>\n",
       "      <td>569293.93</td>\n",
       "      <td>6282654.81</td>\n",
       "      <td>12</td>\n",
       "      <td>365</td>\n",
       "      <td>23</td>\n",
       "      <td>87.0</td>\n",
       "      <td>4</td>\n",
       "    </tr>\n",
       "    <tr>\n",
       "      <th>53087</th>\n",
       "      <td>576954.27</td>\n",
       "      <td>6279021.55</td>\n",
       "      <td>12</td>\n",
       "      <td>365</td>\n",
       "      <td>23</td>\n",
       "      <td>93.0</td>\n",
       "      <td>1</td>\n",
       "    </tr>\n",
       "  </tbody>\n",
       "</table>\n",
       "<p>53088 rows × 7 columns</p>\n",
       "</div>"
      ],
      "text/plain": [
       "         Coord X     Coord Y  Month  Day  Hour  Duration  Incident\n",
       "0      573603.00  6280852.00      1    1     0      54.0         4\n",
       "1      558522.00  6263928.00      1    1     0      32.0        17\n",
       "2      574303.92  6279553.02      1    1     0      25.0         7\n",
       "3      571710.67  6305442.28      1    1     0     167.0        26\n",
       "4      569896.00  6265672.00      1    1     0      41.0         1\n",
       "...          ...         ...    ...  ...   ...       ...       ...\n",
       "53083  513670.00  6226244.00     12  365    23      61.0         1\n",
       "53084  518810.37  6218557.52     12  365    23      80.0        13\n",
       "53085  583285.69  6288301.82     12  365    23      66.0         4\n",
       "53086  569293.93  6282654.81     12  365    23      87.0         4\n",
       "53087  576954.27  6279021.55     12  365    23      93.0         1\n",
       "\n",
       "[53088 rows x 7 columns]"
      ]
     },
     "execution_count": 5,
     "metadata": {},
     "output_type": "execute_result"
    }
   ],
   "source": [
    "df_real"
   ]
  },
  {
   "cell_type": "code",
   "execution_count": null,
   "id": "c46882bd-6cad-4e15-9047-85273c952358",
   "metadata": {},
   "outputs": [],
   "source": []
  },
  {
   "cell_type": "code",
   "execution_count": 2,
   "id": "22ecbd59-77a7-4283-8edf-81e43ea8553b",
   "metadata": {},
   "outputs": [
    {
     "data": {
      "text/html": [
       "<div>\n",
       "<style scoped>\n",
       "    .dataframe tbody tr th:only-of-type {\n",
       "        vertical-align: middle;\n",
       "    }\n",
       "\n",
       "    .dataframe tbody tr th {\n",
       "        vertical-align: top;\n",
       "    }\n",
       "\n",
       "    .dataframe thead tr th {\n",
       "        text-align: left;\n",
       "    }\n",
       "\n",
       "    .dataframe thead tr:last-of-type th {\n",
       "        text-align: right;\n",
       "    }\n",
       "</style>\n",
       "<table border=\"1\" class=\"dataframe\">\n",
       "  <thead>\n",
       "    <tr>\n",
       "      <th>Compétence</th>\n",
       "      <th colspan=\"2\" halign=\"left\">***COD1</th>\n",
       "      <th colspan=\"2\" halign=\"left\">***COD2</th>\n",
       "      <th colspan=\"2\" halign=\"left\">***COD6</th>\n",
       "      <th colspan=\"2\" halign=\"left\">***COND_</th>\n",
       "      <th colspan=\"2\" halign=\"left\">***CO_AM</th>\n",
       "      <th>...</th>\n",
       "      <th colspan=\"2\" halign=\"left\">USAR_CTRB</th>\n",
       "      <th colspan=\"2\" halign=\"left\">USAR_CUNITE</th>\n",
       "      <th colspan=\"2\" halign=\"left\">USAR_EQ</th>\n",
       "      <th colspan=\"2\" halign=\"left\">VETERINAIRE SP</th>\n",
       "      <th colspan=\"2\" halign=\"left\">TOUTES</th>\n",
       "    </tr>\n",
       "    <tr>\n",
       "      <th></th>\n",
       "      <th>Début</th>\n",
       "      <th>Fin</th>\n",
       "      <th>Début</th>\n",
       "      <th>Fin</th>\n",
       "      <th>Début</th>\n",
       "      <th>Fin</th>\n",
       "      <th>Début</th>\n",
       "      <th>Fin</th>\n",
       "      <th>Début</th>\n",
       "      <th>Fin</th>\n",
       "      <th>...</th>\n",
       "      <th>Début</th>\n",
       "      <th>Fin</th>\n",
       "      <th>Début</th>\n",
       "      <th>Fin</th>\n",
       "      <th>Début</th>\n",
       "      <th>Fin</th>\n",
       "      <th>Début</th>\n",
       "      <th>Fin</th>\n",
       "      <th>Début</th>\n",
       "      <th>Fin</th>\n",
       "    </tr>\n",
       "    <tr>\n",
       "      <th>Matricule</th>\n",
       "      <th></th>\n",
       "      <th></th>\n",
       "      <th></th>\n",
       "      <th></th>\n",
       "      <th></th>\n",
       "      <th></th>\n",
       "      <th></th>\n",
       "      <th></th>\n",
       "      <th></th>\n",
       "      <th></th>\n",
       "      <th></th>\n",
       "      <th></th>\n",
       "      <th></th>\n",
       "      <th></th>\n",
       "      <th></th>\n",
       "      <th></th>\n",
       "      <th></th>\n",
       "      <th></th>\n",
       "      <th></th>\n",
       "      <th></th>\n",
       "      <th></th>\n",
       "    </tr>\n",
       "  </thead>\n",
       "  <tbody>\n",
       "    <tr>\n",
       "      <th>1001</th>\n",
       "      <td>NaT</td>\n",
       "      <td>NaT</td>\n",
       "      <td>NaT</td>\n",
       "      <td>NaT</td>\n",
       "      <td>NaT</td>\n",
       "      <td>NaT</td>\n",
       "      <td>1989-04-17</td>\n",
       "      <td>2100-01-01</td>\n",
       "      <td>NaT</td>\n",
       "      <td>NaT</td>\n",
       "      <td>...</td>\n",
       "      <td>NaT</td>\n",
       "      <td>NaT</td>\n",
       "      <td>NaT</td>\n",
       "      <td>NaT</td>\n",
       "      <td>NaT</td>\n",
       "      <td>NaT</td>\n",
       "      <td>NaT</td>\n",
       "      <td>NaT</td>\n",
       "      <td>1984-11-10</td>\n",
       "      <td>2100-01-01</td>\n",
       "    </tr>\n",
       "    <tr>\n",
       "      <th>1007</th>\n",
       "      <td>NaT</td>\n",
       "      <td>NaT</td>\n",
       "      <td>NaT</td>\n",
       "      <td>NaT</td>\n",
       "      <td>NaT</td>\n",
       "      <td>NaT</td>\n",
       "      <td>NaT</td>\n",
       "      <td>NaT</td>\n",
       "      <td>NaT</td>\n",
       "      <td>NaT</td>\n",
       "      <td>...</td>\n",
       "      <td>NaT</td>\n",
       "      <td>NaT</td>\n",
       "      <td>NaT</td>\n",
       "      <td>NaT</td>\n",
       "      <td>NaT</td>\n",
       "      <td>NaT</td>\n",
       "      <td>NaT</td>\n",
       "      <td>NaT</td>\n",
       "      <td>1984-07-17</td>\n",
       "      <td>2100-01-01</td>\n",
       "    </tr>\n",
       "    <tr>\n",
       "      <th>1008</th>\n",
       "      <td>NaT</td>\n",
       "      <td>NaT</td>\n",
       "      <td>NaT</td>\n",
       "      <td>NaT</td>\n",
       "      <td>NaT</td>\n",
       "      <td>NaT</td>\n",
       "      <td>NaT</td>\n",
       "      <td>NaT</td>\n",
       "      <td>NaT</td>\n",
       "      <td>NaT</td>\n",
       "      <td>...</td>\n",
       "      <td>NaT</td>\n",
       "      <td>NaT</td>\n",
       "      <td>2012-09-01</td>\n",
       "      <td>2100-01-01</td>\n",
       "      <td>NaT</td>\n",
       "      <td>NaT</td>\n",
       "      <td>NaT</td>\n",
       "      <td>NaT</td>\n",
       "      <td>2012-09-01</td>\n",
       "      <td>2100-01-01</td>\n",
       "    </tr>\n",
       "    <tr>\n",
       "      <th>1010</th>\n",
       "      <td>NaT</td>\n",
       "      <td>NaT</td>\n",
       "      <td>NaT</td>\n",
       "      <td>NaT</td>\n",
       "      <td>NaT</td>\n",
       "      <td>NaT</td>\n",
       "      <td>NaT</td>\n",
       "      <td>NaT</td>\n",
       "      <td>NaT</td>\n",
       "      <td>NaT</td>\n",
       "      <td>...</td>\n",
       "      <td>NaT</td>\n",
       "      <td>NaT</td>\n",
       "      <td>NaT</td>\n",
       "      <td>NaT</td>\n",
       "      <td>NaT</td>\n",
       "      <td>NaT</td>\n",
       "      <td>NaT</td>\n",
       "      <td>NaT</td>\n",
       "      <td>2012-09-01</td>\n",
       "      <td>2100-01-01</td>\n",
       "    </tr>\n",
       "    <tr>\n",
       "      <th>1014</th>\n",
       "      <td>NaT</td>\n",
       "      <td>NaT</td>\n",
       "      <td>2003-04-01</td>\n",
       "      <td>2018-08-02</td>\n",
       "      <td>2003-04-01</td>\n",
       "      <td>2018-08-02</td>\n",
       "      <td>NaT</td>\n",
       "      <td>NaT</td>\n",
       "      <td>NaT</td>\n",
       "      <td>NaT</td>\n",
       "      <td>...</td>\n",
       "      <td>NaT</td>\n",
       "      <td>NaT</td>\n",
       "      <td>NaT</td>\n",
       "      <td>NaT</td>\n",
       "      <td>2012-09-01</td>\n",
       "      <td>2100-01-01</td>\n",
       "      <td>NaT</td>\n",
       "      <td>NaT</td>\n",
       "      <td>1983-09-19</td>\n",
       "      <td>2100-01-01</td>\n",
       "    </tr>\n",
       "    <tr>\n",
       "      <th>...</th>\n",
       "      <td>...</td>\n",
       "      <td>...</td>\n",
       "      <td>...</td>\n",
       "      <td>...</td>\n",
       "      <td>...</td>\n",
       "      <td>...</td>\n",
       "      <td>...</td>\n",
       "      <td>...</td>\n",
       "      <td>...</td>\n",
       "      <td>...</td>\n",
       "      <td>...</td>\n",
       "      <td>...</td>\n",
       "      <td>...</td>\n",
       "      <td>...</td>\n",
       "      <td>...</td>\n",
       "      <td>...</td>\n",
       "      <td>...</td>\n",
       "      <td>...</td>\n",
       "      <td>...</td>\n",
       "      <td>...</td>\n",
       "      <td>...</td>\n",
       "    </tr>\n",
       "    <tr>\n",
       "      <th>12146</th>\n",
       "      <td>NaT</td>\n",
       "      <td>NaT</td>\n",
       "      <td>NaT</td>\n",
       "      <td>NaT</td>\n",
       "      <td>NaT</td>\n",
       "      <td>NaT</td>\n",
       "      <td>NaT</td>\n",
       "      <td>NaT</td>\n",
       "      <td>NaT</td>\n",
       "      <td>NaT</td>\n",
       "      <td>...</td>\n",
       "      <td>NaT</td>\n",
       "      <td>NaT</td>\n",
       "      <td>NaT</td>\n",
       "      <td>NaT</td>\n",
       "      <td>NaT</td>\n",
       "      <td>NaT</td>\n",
       "      <td>NaT</td>\n",
       "      <td>NaT</td>\n",
       "      <td>2016-06-06</td>\n",
       "      <td>2100-01-01</td>\n",
       "    </tr>\n",
       "    <tr>\n",
       "      <th>12147</th>\n",
       "      <td>NaT</td>\n",
       "      <td>NaT</td>\n",
       "      <td>NaT</td>\n",
       "      <td>NaT</td>\n",
       "      <td>NaT</td>\n",
       "      <td>NaT</td>\n",
       "      <td>NaT</td>\n",
       "      <td>NaT</td>\n",
       "      <td>NaT</td>\n",
       "      <td>NaT</td>\n",
       "      <td>...</td>\n",
       "      <td>NaT</td>\n",
       "      <td>NaT</td>\n",
       "      <td>NaT</td>\n",
       "      <td>NaT</td>\n",
       "      <td>NaT</td>\n",
       "      <td>NaT</td>\n",
       "      <td>NaT</td>\n",
       "      <td>NaT</td>\n",
       "      <td>2018-06-04</td>\n",
       "      <td>2100-01-01</td>\n",
       "    </tr>\n",
       "    <tr>\n",
       "      <th>12150</th>\n",
       "      <td>NaT</td>\n",
       "      <td>NaT</td>\n",
       "      <td>NaT</td>\n",
       "      <td>NaT</td>\n",
       "      <td>NaT</td>\n",
       "      <td>NaT</td>\n",
       "      <td>NaT</td>\n",
       "      <td>NaT</td>\n",
       "      <td>NaT</td>\n",
       "      <td>NaT</td>\n",
       "      <td>...</td>\n",
       "      <td>NaT</td>\n",
       "      <td>NaT</td>\n",
       "      <td>NaT</td>\n",
       "      <td>NaT</td>\n",
       "      <td>NaT</td>\n",
       "      <td>NaT</td>\n",
       "      <td>NaT</td>\n",
       "      <td>NaT</td>\n",
       "      <td>2012-03-17</td>\n",
       "      <td>2100-01-01</td>\n",
       "    </tr>\n",
       "    <tr>\n",
       "      <th>12151</th>\n",
       "      <td>NaT</td>\n",
       "      <td>NaT</td>\n",
       "      <td>NaT</td>\n",
       "      <td>NaT</td>\n",
       "      <td>NaT</td>\n",
       "      <td>NaT</td>\n",
       "      <td>NaT</td>\n",
       "      <td>NaT</td>\n",
       "      <td>NaT</td>\n",
       "      <td>NaT</td>\n",
       "      <td>...</td>\n",
       "      <td>NaT</td>\n",
       "      <td>NaT</td>\n",
       "      <td>NaT</td>\n",
       "      <td>NaT</td>\n",
       "      <td>NaT</td>\n",
       "      <td>NaT</td>\n",
       "      <td>NaT</td>\n",
       "      <td>NaT</td>\n",
       "      <td>2010-04-20</td>\n",
       "      <td>2100-01-01</td>\n",
       "    </tr>\n",
       "    <tr>\n",
       "      <th>12159</th>\n",
       "      <td>NaT</td>\n",
       "      <td>NaT</td>\n",
       "      <td>NaT</td>\n",
       "      <td>NaT</td>\n",
       "      <td>NaT</td>\n",
       "      <td>NaT</td>\n",
       "      <td>NaT</td>\n",
       "      <td>NaT</td>\n",
       "      <td>NaT</td>\n",
       "      <td>NaT</td>\n",
       "      <td>...</td>\n",
       "      <td>NaT</td>\n",
       "      <td>NaT</td>\n",
       "      <td>NaT</td>\n",
       "      <td>NaT</td>\n",
       "      <td>NaT</td>\n",
       "      <td>NaT</td>\n",
       "      <td>NaT</td>\n",
       "      <td>NaT</td>\n",
       "      <td>2002-09-16</td>\n",
       "      <td>2100-01-01</td>\n",
       "    </tr>\n",
       "  </tbody>\n",
       "</table>\n",
       "<p>3343 rows × 268 columns</p>\n",
       "</div>"
      ],
      "text/plain": [
       "Compétence ***COD1        ***COD2               ***COD6              ***COND_  \\\n",
       "             Début Fin      Début        Fin      Début        Fin      Début   \n",
       "Matricule                                                                       \n",
       "1001           NaT NaT        NaT        NaT        NaT        NaT 1989-04-17   \n",
       "1007           NaT NaT        NaT        NaT        NaT        NaT        NaT   \n",
       "1008           NaT NaT        NaT        NaT        NaT        NaT        NaT   \n",
       "1010           NaT NaT        NaT        NaT        NaT        NaT        NaT   \n",
       "1014           NaT NaT 2003-04-01 2018-08-02 2003-04-01 2018-08-02        NaT   \n",
       "...            ...  ..        ...        ...        ...        ...        ...   \n",
       "12146          NaT NaT        NaT        NaT        NaT        NaT        NaT   \n",
       "12147          NaT NaT        NaT        NaT        NaT        NaT        NaT   \n",
       "12150          NaT NaT        NaT        NaT        NaT        NaT        NaT   \n",
       "12151          NaT NaT        NaT        NaT        NaT        NaT        NaT   \n",
       "12159          NaT NaT        NaT        NaT        NaT        NaT        NaT   \n",
       "\n",
       "Compétence            ***CO_AM      ... USAR_CTRB     USAR_CUNITE             \\\n",
       "                  Fin    Début Fin  ...     Début Fin       Début        Fin   \n",
       "Matricule                           ...                                        \n",
       "1001       2100-01-01      NaT NaT  ...       NaT NaT         NaT        NaT   \n",
       "1007              NaT      NaT NaT  ...       NaT NaT         NaT        NaT   \n",
       "1008              NaT      NaT NaT  ...       NaT NaT  2012-09-01 2100-01-01   \n",
       "1010              NaT      NaT NaT  ...       NaT NaT         NaT        NaT   \n",
       "1014              NaT      NaT NaT  ...       NaT NaT         NaT        NaT   \n",
       "...               ...      ...  ..  ...       ...  ..         ...        ...   \n",
       "12146             NaT      NaT NaT  ...       NaT NaT         NaT        NaT   \n",
       "12147             NaT      NaT NaT  ...       NaT NaT         NaT        NaT   \n",
       "12150             NaT      NaT NaT  ...       NaT NaT         NaT        NaT   \n",
       "12151             NaT      NaT NaT  ...       NaT NaT         NaT        NaT   \n",
       "12159             NaT      NaT NaT  ...       NaT NaT         NaT        NaT   \n",
       "\n",
       "Compétence    USAR_EQ            VETERINAIRE SP         TOUTES             \n",
       "                Début        Fin          Début Fin      Début        Fin  \n",
       "Matricule                                                                  \n",
       "1001              NaT        NaT            NaT NaT 1984-11-10 2100-01-01  \n",
       "1007              NaT        NaT            NaT NaT 1984-07-17 2100-01-01  \n",
       "1008              NaT        NaT            NaT NaT 2012-09-01 2100-01-01  \n",
       "1010              NaT        NaT            NaT NaT 2012-09-01 2100-01-01  \n",
       "1014       2012-09-01 2100-01-01            NaT NaT 1983-09-19 2100-01-01  \n",
       "...               ...        ...            ...  ..        ...        ...  \n",
       "12146             NaT        NaT            NaT NaT 2016-06-06 2100-01-01  \n",
       "12147             NaT        NaT            NaT NaT 2018-06-04 2100-01-01  \n",
       "12150             NaT        NaT            NaT NaT 2012-03-17 2100-01-01  \n",
       "12151             NaT        NaT            NaT NaT 2010-04-20 2100-01-01  \n",
       "12159             NaT        NaT            NaT NaT 2002-09-16 2100-01-01  \n",
       "\n",
       "[3343 rows x 268 columns]"
      ]
     },
     "execution_count": 2,
     "metadata": {},
     "output_type": "execute_result"
    }
   ],
   "source": [
    "os.chdir(\"./Data_environment/\")\n",
    "df_skills = pd.read_pickle(\"df_skills.pkl\")\n",
    "df_skills"
   ]
  },
  {
   "cell_type": "code",
   "execution_count": 9,
   "id": "a3080145-3e13-4d4f-b321-3ff9ec8395ed",
   "metadata": {},
   "outputs": [
    {
     "name": "stdout",
     "output_type": "stream",
     "text": [
      "0 0.99\n",
      "1 0.9702989999999999\n",
      "2 0.9414801494009999\n",
      "3 0.9043820750088043\n",
      "4 0.8600583546412882\n",
      "5 0.8097278682212583\n",
      "6 0.7547192872036325\n",
      "7 0.6964132180495735\n",
      "8 0.6361854860638709\n",
      "9 0.5753547499769284\n",
      "10 0.5151371174238033\n",
      "11 0.4566097477439145\n",
      "12 0.4006846529515405\n",
      "13 0.348093114492442\n",
      "14 0.2993803913123313\n",
      "15 0.2549097606963092\n",
      "16 0.21487444770607947\n",
      "17 0.1793156835947105\n",
      "18 0.14814499154757946\n",
      "19 0.12116881635704835\n",
      "20 0.0981137673636859\n",
      "21 0.07865099717364833\n"
     ]
    }
   ],
   "source": [
    "eps = 1\n",
    "d = 1\n",
    "for _ in range(22):\n",
    "    eps = eps * 0.99**d\n",
    "    eps = max(0.05, eps)\n",
    "    d+=1\n",
    "    print(_, eps)"
   ]
  },
  {
   "cell_type": "code",
   "execution_count": 208,
   "id": "513c6c17-d2ea-4b95-a227-a6bf43124376",
   "metadata": {
    "scrolled": true
   },
   "outputs": [
    {
     "data": {
      "text/plain": [
       "<BarContainer object of 365 artists>"
      ]
     },
     "execution_count": 208,
     "metadata": {},
     "output_type": "execute_result"
    },
    {
     "data": {
      "image/png": "[encoded data removed]",
      "text/plain": [
       "<Figure size 2000x500 with 1 Axes>"
      ]
     },
     "metadata": {},
     "output_type": "display_data"
    }
   ],
   "source": [
    "vcreal = df_real.Day.value_counts().sort_index()\n",
    "df_fake.loc[df_fake[\"Day\"] < 1, \"Day\"] = 1\n",
    "vcfake = df_fake.Day.value_counts().sort_index()\n",
    "\n",
    "plt.figure(figsize = (20, 5))\n",
    "plt.bar(vcreal.index, vcreal.values, color='blue', alpha = .5)\n",
    "plt.bar(vcfake.index, vcfake.values, color='orange', alpha = .5)"
   ]
  },
  {
   "cell_type": "code",
   "execution_count": 21,
   "id": "cb4bbb68-038f-444a-90b2-bdf98d3812bd",
   "metadata": {},
   "outputs": [
    {
     "data": {
      "text/plain": [
       "Index(['Coord X', 'Coord Y', 'Month', 'Hour', 'Duration', 'Incident',\n",
       "       'Day_week', 'Day_month', 'area_name'],\n",
       "      dtype='object')"
      ]
     },
     "execution_count": 21,
     "metadata": {},
     "output_type": "execute_result"
    }
   ],
   "source": [
    "df_real.columns"
   ]
  },
  {
   "cell_type": "code",
   "execution_count": 210,
   "id": "56f9b3a1-0199-4758-bc30-9344cbe0a22c",
   "metadata": {},
   "outputs": [
    {
     "data": {
      "text/plain": [
       "<BarContainer object of 12 artists>"
      ]
     },
     "execution_count": 210,
     "metadata": {},
     "output_type": "execute_result"
    },
    {
     "data": {
      "image/png": "[encoded data removed]",
      "text/plain": [
       "<Figure size 2000x500 with 1 Axes>"
      ]
     },
     "metadata": {},
     "output_type": "display_data"
    }
   ],
   "source": [
    "vcreal = df_real.Month.value_counts().sort_index()\n",
    "df_fake.loc[df_fake[\"Month\"] < 1 , \"Month\"] = 12\n",
    "vcfake = df_fake.Month.value_counts().sort_index()\n",
    "plt.figure(figsize = (20, 5))\n",
    "plt.bar(vcreal.index, vcreal.values, color='blue', alpha = .5)\n",
    "plt.bar(vcfake.index, vcfake.values, color='orange', alpha = .5)"
   ]
  },
  {
   "cell_type": "code",
   "execution_count": 212,
   "id": "230824be-931f-4fc8-ae7c-8bc443def10e",
   "metadata": {
    "scrolled": true
   },
   "outputs": [
    {
     "data": {
      "text/plain": [
       "<BarContainer object of 24 artists>"
      ]
     },
     "execution_count": 212,
     "metadata": {},
     "output_type": "execute_result"
    },
    {
     "data": {
      "image/png": "[encoded data removed]",
      "text/plain": [
       "<Figure size 2000x500 with 1 Axes>"
      ]
     },
     "metadata": {},
     "output_type": "display_data"
    }
   ],
   "source": [
    "vcreal = df_real.Hour.value_counts().sort_index()\n",
    "df_fake.loc[df_fake[\"Hour\"] > 23, \"Hour\"] = 0\n",
    "vcfake = df_fake.Hour.value_counts().sort_index()\n",
    "plt.figure(figsize = (20, 5))\n",
    "plt.bar(vcreal.index, vcreal.values, color='blue', alpha = .5)\n",
    "plt.bar(vcfake.index, vcfake.values, color='orange', alpha = .5)"
   ]
  },
  {
   "cell_type": "code",
   "execution_count": 34,
   "id": "a685777d-7c0c-4859-98dc-2ce50c8e185e",
   "metadata": {},
   "outputs": [],
   "source": [
    "os.chdir(\"../Data_environment\")"
   ]
  },
  {
   "cell_type": "code",
   "execution_count": 35,
   "id": "ffd9dbbe-d524-4739-bd11-1c625e87b6a7",
   "metadata": {},
   "outputs": [],
   "source": [
    "df_fake = pickle.load(open('df_pc_fake.pkl', 'rb'))"
   ]
  },
  {
   "cell_type": "code",
   "execution_count": 191,
   "id": "b93a8d05-e678-43bd-a439-e6f4db94adf6",
   "metadata": {},
   "outputs": [
    {
     "data": {
      "text/plain": [
       "<BarContainer object of 366 artists>"
      ]
     },
     "execution_count": 191,
     "metadata": {},
     "output_type": "execute_result"
    },
    {
     "data": {
      "image/png": "[encoded data removed]",
      "text/plain": [
       "<Figure size 2000x500 with 1 Axes>"
      ]
     },
     "metadata": {},
     "output_type": "display_data"
    }
   ],
   "source": [
    "# vcreal = df_real.Day.value_counts().sort_index()\n",
    "vcfake = df_fake.Day.value_counts().sort_index()\n",
    "plt.figure(figsize = (20, 5))\n",
    "plt.bar(vcreal.index, vcreal.values, color='blue', alpha = .5)\n",
    "plt.bar(vcfake.index, vcfake.values, color='orange', alpha = .5)"
   ]
  },
  {
   "cell_type": "code",
   "execution_count": null,
   "id": "1053f475-6b22-4398-94b8-941aa6812895",
   "metadata": {},
   "outputs": [],
   "source": []
  },
  {
   "cell_type": "code",
   "execution_count": null,
   "id": "60ef19cb-4ef6-47b0-88eb-b820e055b07c",
   "metadata": {},
   "outputs": [],
   "source": []
  },
  {
   "cell_type": "code",
   "execution_count": null,
   "id": "bdcef60b-89e3-4859-808f-041456021bd5",
   "metadata": {},
   "outputs": [],
   "source": []
  },
  {
   "cell_type": "code",
   "execution_count": null,
   "id": "3d722eba-872f-46bd-9478-4ba47019d104",
   "metadata": {},
   "outputs": [],
   "source": []
  }
 ],
 "metadata": {
  "kernelspec": {
   "display_name": "Python 3 (ipykernel)",
   "language": "python",
   "name": "python3"
  },
  "language_info": {
   "codemirror_mode": {
    "name": "ipython",
    "version": 3
   },
   "file_extension": ".py",
   "mimetype": "text/x-python",
   "name": "python",
   "nbconvert_exporter": "python",
   "pygments_lexer": "ipython3",
   "version": "3.12.3"
  }
 },
 "nbformat": 4,
 "nbformat_minor": 5
}
